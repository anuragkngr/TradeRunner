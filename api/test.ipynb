{
 "cells": [
  {
   "cell_type": "code",
   "execution_count": 17,
   "metadata": {},
   "outputs": [
    {
     "name": "stdout",
     "output_type": "stream",
     "text": [
      "The database exists.\n",
      "None\n"
     ]
    }
   ],
   "source": [
    "from datetime import datetime, date, time\n",
    "import ast, traceback, numpy as np, json, logging, pandas as pd, pymongo, pandas_ta as ta\n",
    "from time import sleep\n",
    "# conf = json.load(open(\"C:/Users/anukumar7/Desktop/Docs/MyTrades/data/configuration.json\"))\n",
    "                      # ./data/configuration.json\"))\n",
    "# from order_management_system import OMS, fut_list\n",
    "now = datetime.now()\n",
    "client = pymongo.MongoClient(\"mongodb://127.0.0.1:27017/?directConnection=true&serverSelectionTimeoutMS=2000\")\n",
    "dblist = client.list_database_names()\n",
    "if \"tradestore\" in dblist:\n",
    "  print(\"The database exists.\")\n",
    "mydb = client[\"tradestore\"]\n",
    "trades = mydb[\"trades\"]\n",
    "options = mydb[\"options\"]\n",
    "feed = mydb[\"feed\"]\n",
    "trades = mydb[\"trades\"]\n",
    "indexes = mydb[\"indexes\"]\n",
    "feed_ids = []\n",
    "# oms = OMS()\n",
    "index = 'NIFTY'\n",
    "\n",
    "# re = options.find_one({'$and': [{'security_id': int('37051')}, \n",
    "#                                      {'$or': [{'oi': { '$gt': 0 }}, {'OI': { '$gt': 0 }}] }\n",
    "#                                      ]}, sort=[('_id', -1)])\n",
    "# re = list(options.find({'$or': [{'oi': { '$gt': 0 }}, {'OI': { '$gt': 0 }}] }, sort=[('_id', -1)]))\n",
    "# re = list(options.find({'OI': { '$gt': 0 }}, sort=[('_id', -1)]))\n",
    "# filter = { 'trade_id': '1716353829' }\n",
    "# newvalues = { \"$set\": { 'strategy': 'Nifty Bear Put Spread (Sell)' } }\n",
    "# trades.update_one(filter, newvalues)\n",
    "\n",
    "# print(len(res))\n",
    "# exit()\n",
    "# print(len(re))\n",
    "# for res in re:\n",
    "#   print(res)\n",
    "# # print(res)\n",
    "#   if ('oi' in res and res['oi'] > 0) or ('OI' in res and res['OI'] > 0):\n",
    "#     if 'oi' in res: print(f'oi = {res['oi']}, LTT = {res['LTT']}')\n",
    "#     if 'OI' in res: print(f'OI = {res['OI']}, LTT = {res['LTT']}')\n",
    "#     break\n",
    "# res = options.find_one({'$and': [{'oi': { '$gte': 0 }}, {'security_id': 37758}]}, sort=[('_id', -1)])\n",
    "res = options.find_one({'security_id': int('37758')}, sort=[('_id', 1)])\n",
    "print(res)"
   ]
  }
 ],
 "metadata": {
  "kernelspec": {
   "display_name": ".venv",
   "language": "python",
   "name": "python3"
  },
  "language_info": {
   "codemirror_mode": {
    "name": "ipython",
    "version": 3
   },
   "file_extension": ".py",
   "mimetype": "text/x-python",
   "name": "python",
   "nbconvert_exporter": "python",
   "pygments_lexer": "ipython3",
   "version": "3.12.3"
  }
 },
 "nbformat": 4,
 "nbformat_minor": 2
}
