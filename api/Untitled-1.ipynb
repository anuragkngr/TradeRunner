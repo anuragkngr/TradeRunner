{
 "cells": [
  {
   "cell_type": "code",
   "execution_count": 1,
   "metadata": {},
   "outputs": [
    {
     "name": "stdout",
     "output_type": "stream",
     "text": [
      "2024-06-12 00:00:00\n"
     ]
    },
    {
     "ename": "NameError",
     "evalue": "name 'client' is not defined",
     "output_type": "error",
     "traceback": [
      "\u001b[1;31m---------------------------------------------------------------------------\u001b[0m",
      "\u001b[1;31mNameError\u001b[0m                                 Traceback (most recent call last)",
      "Cell \u001b[1;32mIn[1], line 9\u001b[0m\n\u001b[0;32m      7\u001b[0m \u001b[38;5;28mprint\u001b[39m(_dt)\n\u001b[0;32m      8\u001b[0m exit()\n\u001b[1;32m----> 9\u001b[0m dblist \u001b[38;5;241m=\u001b[39m \u001b[43mclient\u001b[49m\u001b[38;5;241m.\u001b[39mlist_database_names()\n\u001b[0;32m     10\u001b[0m \u001b[38;5;28;01mif\u001b[39;00m \u001b[38;5;124m\"\u001b[39m\u001b[38;5;124mtradestore\u001b[39m\u001b[38;5;124m\"\u001b[39m \u001b[38;5;129;01min\u001b[39;00m dblist:\n\u001b[0;32m     11\u001b[0m   \u001b[38;5;28mprint\u001b[39m(\u001b[38;5;124m\"\u001b[39m\u001b[38;5;124mThe database exists.\u001b[39m\u001b[38;5;124m\"\u001b[39m)\n",
      "\u001b[1;31mNameError\u001b[0m: name 'client' is not defined"
     ]
    },
    {
     "ename": "",
     "evalue": "",
     "output_type": "error",
     "traceback": [
      "\u001b[1;31mThe Kernel crashed while executing code in the current cell or a previous cell. \n",
      "\u001b[1;31mPlease review the code in the cell(s) to identify a possible cause of the failure. \n",
      "\u001b[1;31mClick <a href='https://aka.ms/vscodeJupyterKernelCrash'>here</a> for more info. \n",
      "\u001b[1;31mView Jupyter <a href='command:jupyter.viewOutput'>log</a> for further details."
     ]
    }
   ],
   "source": [
    "\n",
    "from dateutil import parser\n",
    "from datetime import date, datetime\n",
    "import pymongo, json\n",
    "# conf = json.load(open(\"./data/configuration.json\"))\n",
    "# client = pymongo.MongoClient(conf['db_url_lcl'])\n",
    "_dt = datetime.today().replace(hour=0,minute=0,second=0,microsecond=0)\n",
    "print(_dt)\n",
    "exit()\n",
    "dblist = client.list_database_names()\n",
    "if \"tradestore\" in dblist:\n",
    "  print(\"The database exists.\")\n",
    "mydb = client[\"tradestore\"]\n",
    "# options = mydb[\"options\"]\n",
    "# indexes = mydb[\"indexes\"]\n",
    "history = mydb[\"history\"]\n",
    "# oi = mydb[\"open_interest\"]\n",
    "# message['LTT'] = parser.parse(message['LTT'])\n",
    "# pp = datetime.now().strftime(\"%m-%d-%Y\")\n",
    "# pp = parser.parse(pp)\n",
    "res = history.find_one(\n",
    "                {'symbol': 'NIFTY', 'history_date': {'$lte': '$history_date'}}, \n",
    "                sort=[('history_date', -1)])\n",
    "pp = date.today()\n",
    "print(type(pp))\n",
    "print((pp))\n",
    "pp = datetime.now()\n",
    "print(type(pp))\n",
    "print((pp))\n",
    "pp = datetime.today()\n",
    "print(type(pp))\n",
    "print((pp))\n",
    "pp=datetime.today().replace(hour=0,minute=0,second=0,microsecond=0)\n",
    "print(type(pp))\n",
    "print((pp))"
   ]
  }
 ],
 "metadata": {
  "kernelspec": {
   "display_name": ".venv",
   "language": "python",
   "name": "python3"
  },
  "language_info": {
   "codemirror_mode": {
    "name": "ipython",
    "version": 3
   },
   "file_extension": ".py",
   "mimetype": "text/x-python",
   "name": "python",
   "nbconvert_exporter": "python",
   "pygments_lexer": "ipython3",
   "version": "3.12.3"
  }
 },
 "nbformat": 4,
 "nbformat_minor": 2
}
