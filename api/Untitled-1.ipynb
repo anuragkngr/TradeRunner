{
 "cells": [
  {
   "cell_type": "code",
   "execution_count": 15,
   "metadata": {},
   "outputs": [
    {
     "name": "stdout",
     "output_type": "stream",
     "text": [
      "<class 'datetime.date'>\n",
      "2024-06-07\n",
      "<class 'datetime.datetime'>\n",
      "2024-06-07 19:34:39.768632\n",
      "<class 'datetime.datetime'>\n",
      "2024-06-07 19:34:39.768633\n",
      "<class 'datetime.datetime'>\n",
      "2024-06-07 00:00:00\n"
     ]
    }
   ],
   "source": [
    "\n",
    "from dateutil import parser\n",
    "from datetime import date, datetime\n",
    "import pymongo, json\n",
    "conf = json.load(open(\"./data/configuration.json\"))\n",
    "client = pymongo.MongoClient(conf['db_url_lcl'])\n",
    "dblist = client.list_database_names()\n",
    "if \"tradestore\" in dblist:\n",
    "  print(\"The database exists.\")\n",
    "mydb = client[\"tradestore\"]\n",
    "# options = mydb[\"options\"]\n",
    "# indexes = mydb[\"indexes\"]\n",
    "history = mydb[\"history\"]\n",
    "# oi = mydb[\"open_interest\"]\n",
    "# message['LTT'] = parser.parse(message['LTT'])\n",
    "# pp = datetime.now().strftime(\"%m-%d-%Y\")\n",
    "# pp = parser.parse(pp)\n",
    "res = history.find_one(\n",
    "                {'symbol': 'NIFTY', 'history_date': {'$lte': '$history_date'}}, \n",
    "                sort=[('history_date', -1)])\n",
    "pp = date.today()\n",
    "print(type(pp))\n",
    "print((pp))\n",
    "pp = datetime.now()\n",
    "print(type(pp))\n",
    "print((pp))\n",
    "pp = datetime.today()\n",
    "print(type(pp))\n",
    "print((pp))\n",
    "pp=datetime.today().replace(hour=0,minute=0,second=0,microsecond=0)\n",
    "print(type(pp))\n",
    "print((pp))"
   ]
  }
 ],
 "metadata": {
  "kernelspec": {
   "display_name": ".venv",
   "language": "python",
   "name": "python3"
  },
  "language_info": {
   "codemirror_mode": {
    "name": "ipython",
    "version": 3
   },
   "file_extension": ".py",
   "mimetype": "text/x-python",
   "name": "python",
   "nbconvert_exporter": "python",
   "pygments_lexer": "ipython3",
   "version": "3.12.3"
  }
 },
 "nbformat": 4,
 "nbformat_minor": 2
}
