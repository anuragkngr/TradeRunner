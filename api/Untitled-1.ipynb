{
 "cells": [
  {
   "cell_type": "code",
   "execution_count": 12,
   "metadata": {},
   "outputs": [
    {
     "name": "stdout",
     "output_type": "stream",
     "text": [
      "2024-05-30 20:45:45.491112\n",
      "<class 'str'>\n"
     ]
    }
   ],
   "source": [
    "import traceback, json, logging, warnings\n",
    "conf = json.load(open(\"./data/configuration.json\"))\n",
    "from datetime import datetime\n",
    "from dateutil import parser\n",
    "now = datetime.now()\n",
    "d=str(now.date())\n",
    "d=str(now)\n",
    "print(d)\n",
    "print(type(d))\n"
   ]
  }
 ],
 "metadata": {
  "kernelspec": {
   "display_name": ".venv",
   "language": "python",
   "name": "python3"
  },
  "language_info": {
   "codemirror_mode": {
    "name": "ipython",
    "version": 3
   },
   "file_extension": ".py",
   "mimetype": "text/x-python",
   "name": "python",
   "nbconvert_exporter": "python",
   "pygments_lexer": "ipython3",
   "version": "3.12.3"
  }
 },
 "nbformat": 4,
 "nbformat_minor": 2
}
